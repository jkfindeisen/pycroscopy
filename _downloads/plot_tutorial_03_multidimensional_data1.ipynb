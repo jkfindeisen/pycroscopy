{
  "cells": [
    {
      "cell_type": "code",
      "execution_count": null,
      "metadata": {
        "collapsed": false
      },
      "outputs": [],
      "source": [
        "%matplotlib inline"
      ]
    },
    {
      "cell_type": "markdown",
      "metadata": {},
      "source": [
        "\n========================================================================================================\nTutorial 3: Handling Multidimensional datasets\n========================================================================================================\n\n**Suhas Somnath**\n8/8/2017\n\nThis set of tutorials will serve as examples for developing end-to-end workflows for and using pycroscopy.\n\n**In this example, we will learn how to slice multidimensional datasets.**\n\nIntroduction\n============\n\nIn pycroscopy, all position dimensions of a dataset are collapsed into the first dimension and all other\n(spectroscopic) dimensions are collapsed to the second dimension to form a two dimensional matrix. The ancillary\nmatrices, namely the spectroscopic indices and values matrix as well as the position indices and values matrices\nwill be essential for reshaping the data back to its original N dimensional form and for slicing multidimensional\ndatasets\n\nWe highly recommend reading about the pycroscopy data format - available in the docs.\n\n\n"
      ]
    },
    {
      "cell_type": "code",
      "execution_count": null,
      "metadata": {
        "collapsed": false
      },
      "outputs": [],
      "source": [
        "# Ensure python 3 compatibility:\nfrom __future__ import division, print_function, absolute_import, unicode_literals\n\n# The package for accessing files in directories, etc.:\nimport os\n\n# Warning package in case something goes wrong\nfrom warnings import warn\n\n# Package for downloading online files:\ntry:\n    # This package is not part of anaconda and may need to be installed.\n    import wget\nexcept ImportError:\n    warn('wget not found.  Will install with pip.')\n    import pip\n    pip.main(['install', 'wget'])\n    import wget\n\n# The mathematical computation package:\nimport numpy as np\n\n# The package used for creating and manipulating HDF5 files:\nimport h5py\n\n# Packages for plotting:\nimport matplotlib.pyplot as plt\n\n# basic interactive widgets:\nfrom ipywidgets import interact\n\n# Finally import pycroscopy for certain scientific analysis:\ntry:\n    import pycroscopy as px\nexcept ImportError:\n    warn('pycroscopy not found.  Will install with pip.')\n    import pip\n    pip.main(['install', 'pycroscopy'])\n    import pycroscopy as px"
      ]
    },
    {
      "cell_type": "markdown",
      "metadata": {},
      "source": [
        "Load the dataset\n================\n\nFor this example, we will be working with a Band Excitation Polarization Switching (BEPS)\ndataset acquired from advanced atomic force microscopes. In the much simpler Band Excitation (BE)\nimaging datasets, a single spectra is acquired at each location in a two dimensional grid of spatial locations.\nThus, BE imaging datasets have two position dimensions (X, Y) and one spectroscopic dimension (frequency - against\nwhich the spectra is recorded). The BEPS dataset used in this example has a spectra for each combination of\nthree other parameters (DC offset, Field, and Cycle). Thus, this dataset has three new spectral\ndimensions in addition to the spectra itself. Hence, this dataset becomes a 2+4 = 6 dimensional dataset\n\n"
      ]
    },
    {
      "cell_type": "code",
      "execution_count": null,
      "metadata": {
        "collapsed": false
      },
      "outputs": [],
      "source": [
        "# download the raw data file from Github:\nh5_path = 'temp_3.h5'\nurl = 'https://raw.githubusercontent.com/pycroscopy/pycroscopy/cades_dev/data/BEPS_small.h5'\nif os.path.exists(h5_path):\n    os.remove(h5_path)\n_ = wget.download(url, h5_path, bar=None)"
      ]
    },
    {
      "cell_type": "code",
      "execution_count": null,
      "metadata": {
        "collapsed": false
      },
      "outputs": [],
      "source": [
        "# Open the file in read-only mode\nh5_file = h5py.File(h5_path, mode='r')\n\nprint('Datasets and datagroups within the file:\\n------------------------------------')\npx.hdf_utils.print_tree(h5_file)"
      ]
    },
    {
      "cell_type": "code",
      "execution_count": null,
      "metadata": {
        "collapsed": false
      },
      "outputs": [],
      "source": [
        "h5_meas_grp = h5_file['Measurement_000']\nh5_main = h5_meas_grp['Channel_000/Raw_Data']\nprint('\\nThe main dataset:\\n------------------------------------')\nprint(h5_main)"
      ]
    },
    {
      "cell_type": "markdown",
      "metadata": {},
      "source": [
        "The main dataset clearly does not provide the multidimensional information about the data that will be necessary to\nslice the data. For that we need the ancillary datasets that support this main dataset\n\n"
      ]
    },
    {
      "cell_type": "code",
      "execution_count": null,
      "metadata": {
        "collapsed": false
      },
      "outputs": [],
      "source": [
        "# pycroscopy has a convenient function to access datasets linked to a given dataset:\nh5_spec_ind = px.hdf_utils.getAuxData(h5_main, 'Spectroscopic_Indices')[0]\nh5_spec_val = px.hdf_utils.getAuxData(h5_main, 'Spectroscopic_Values')[0]\nh5_pos_ind = px.hdf_utils.getAuxData(h5_main, 'Position_Indices')[0]\nh5_pos_val = px.hdf_utils.getAuxData(h5_main, 'Position_Values')[0]"
      ]
    },
    {
      "cell_type": "markdown",
      "metadata": {},
      "source": [
        "Understanding the ancillary datasets:\n=====================================\n\nThe position datasets are shaped as [spatial points, dimension] while the spectroscopic datasets are shaped as\n[dimension, spectral points]. Clearly the first axis of the position dataset and the second axis of the spectroscopic\ndatasets match the corresponding sizes of the main dataset.\n\nAgain, the sum of the position and spectroscopic dimensions results in the 6 dimensions originally described above.\n\nEssentially, there is a unique combination of position and spectroscopic parameters for each cell in the two\ndimensional main dataset. The interactive widgets below illustrate this point. The first slider represents the\nposition dimension while the second represents the spectroscopic dimension. Each position index can be decoded\nto a set of X and Y indices and values while each spectroscopic index can be decoded into a set of frequency,\ndc offset, field, and forc parameters\n\n"
      ]
    },
    {
      "cell_type": "code",
      "execution_count": null,
      "metadata": {
        "collapsed": false
      },
      "outputs": [],
      "source": [
        "print('Main Datasets of shape:', h5_main.shape)\nprint('Position Datasets of shape:', h5_pos_ind.shape)\nprint('Spectroscopic Datasets of shape:', h5_spec_ind.shape)\n\nspec_labels = px.hdf_utils.get_formatted_labels(h5_spec_ind)\npos_labels = px.hdf_utils.get_formatted_labels(h5_pos_ind)\n\n\ndef myfun(pos_index, spec_index):\n    for dim_ind, dim_name in enumerate(pos_labels):\n        print(dim_name, ':', h5_pos_ind[pos_index, dim_ind])\n    for dim_ind, dim_name in enumerate(spec_labels):\n        print(dim_name, ':', h5_spec_ind[dim_ind, spec_index])\n\n\ninteract(myfun, pos_index=(0, h5_main.shape[0]-1, 1), spec_index=(0, h5_main.shape[1]-1, 1))"
      ]
    },
    {
      "cell_type": "markdown",
      "metadata": {},
      "source": [
        "Visualizing the ancillary datasets\n==================================\n\nThe plots below show how the position and spectroscopic dimensions vary. Due to the high dimensionality of the\nspectroscopic dimensions, the variation of each dimension has been plotted separately.\n\nHow we interpret these plots:\n=============================\n\n**Positions**: For each Y index, the X index ramps up from 0 to 4 and repeats. Essentially, this means that for\na given Y index, there were multiple measurements (different values of X)\n\n**Spectroscopic**: The plot for `Cycle` shows that the next fastest dimension, `DC offset`, was varied twice.\nCorrespondingly, the plot for `DC offset` plot shows that this dimension ramps up from 0 to 63\nfor each `Cycle` index. The same logic can be extended to the faster varying dimensions - `Frequency` and `Field`.\n\nNote that the spectroscopic and position dimensions may not be arranged from fastest to slowest.\n\n"
      ]
    },
    {
      "cell_type": "code",
      "execution_count": null,
      "metadata": {
        "collapsed": false
      },
      "outputs": [],
      "source": [
        "fig_1, axes = plt.subplots(ncols=2, figsize=(10, 5))\npx.plot_utils.plot_line_family(axes[0], np.arange(h5_pos_ind.shape[0]), h5_pos_ind[()].T,\n                               line_names=pos_labels)\naxes[0].set_xlabel('Position points')\naxes[0].set_ylabel('Index')\naxes[0].set_title('Position Indices')\naxes[0].legend()\npx.plot_utils.plot_line_family(axes[1], np.arange(h5_spec_ind.shape[1]), h5_spec_ind,\n                               line_names=spec_labels)\naxes[1].set_xlabel('Spectroscopic points')\naxes[1].set_title('Spectroscopic Indices')\naxes[1].legend()\n\nfig_2, axes = plt.subplots(ncols=3, nrows=2, figsize=(15, 10))\nfor dim_ind, axis, dim_label, dim_array in zip([0, 2], [axes.flat[0], axes.flat[3]],\n                                               [spec_labels[0], spec_labels[2]],\n                                               [h5_spec_ind[0, :500], h5_spec_ind[2, :500]]):\n    axis.plot(np.arange(dim_array.size), dim_array)\n    axis.set_xlabel('Spectroscopic points')\n    axis.set_ylabel('Index')\n    axis.set_title('Dim ' + str(dim_ind) + ' - ' + dim_label)\n\nrhs_axes = [axes.flat[ind] for ind in [1, 2, 4, 5]]\nfor dim_ind, axis, dim_label, dim_array in zip(range(h5_spec_ind.shape[0]), rhs_axes, spec_labels, h5_spec_ind):\n    axis.plot(np.arange(dim_array.size), dim_array)\n    axis.set_xlabel('Spectroscopic points')\n    axis.set_ylabel('Index')\n    axis.set_title('Dim ' + str(dim_ind) + ' - ' + dim_label)"
      ]
    },
    {
      "cell_type": "code",
      "execution_count": null,
      "metadata": {
        "collapsed": false
      },
      "outputs": [],
      "source": [
        "# A similar version of this function is available in pycroscopy.io.hdf_utils.get_formatted_labels\n\n\ndef describe_dimensions(h5_aux):\n    for name, unit in zip(px.hdf_utils.get_attr(h5_aux, 'labels'),\n                          px.hdf_utils.get_attr(h5_aux, 'units')):\n        print(name, '[', unit, ']')\n\n\nprint('Position dimension names and units:')\ndescribe_dimensions(h5_pos_ind)\n\nprint('\\nSpectroscopic dimension names and units:')\ndescribe_dimensions(h5_spec_ind)"
      ]
    },
    {
      "cell_type": "markdown",
      "metadata": {},
      "source": [
        "Now lets find the size in each dimension\n========================================\nFor now lets assume that data is sampled at each position and at each spectral step\nIn other words lets assume that data was not sampled over a random subset of points within a grid of points\n\n"
      ]
    },
    {
      "cell_type": "code",
      "execution_count": null,
      "metadata": {
        "collapsed": false
      },
      "outputs": [],
      "source": [
        "# The function below has been implemented as pycroscopy.io.hdf_utils.get_dimensionality\n\n\ndef get_dim_sizes(ind_dset, is_position=False):\n    # ind_dset here is expected to be of the shape [dimension, points] like the spectroscopic indices\n    if is_position:\n        # Position dimensions will be turned from [points, dimension] to [dimension, points]\n        ind_dset = np.transpose(ind_dset[()])\n\n    dim_size = []\n    for col in ind_dset:\n        # For each dimension array, we will find the number of unique elements in it\n        dim_size.append(len(np.unique(col)))\n    return dim_size\n\n\npos_dim_sizes = get_dim_sizes(h5_pos_ind, is_position=True)\nspec_dim_sizes = get_dim_sizes(h5_spec_ind)\n\nprint('Positions:', pos_dim_sizes, '\\nSpectroscopic:', spec_dim_sizes)"
      ]
    },
    {
      "cell_type": "markdown",
      "metadata": {},
      "source": [
        "Slicing the Main dataset\n========================\n\nLet's assume that we are interested in visualizing the spectrograms at the first field of the second cycle at\nposition - row:3 and column 2. There are two ways of accessing the data:\n\n1. The easiest method - use the PycroDataset class to slice the data\n\n* This method will only work for ``main`` datasets.  We recommend using method 2 for slicing all others.\n\n2. The easier method - reshape the data to N dimensions and slice the dataset\n\n* This approach, while easy, may not be suitable for large datasets which may or may not fit in memory\n\n3. The hard method - find the spectroscopic and position indices of interest and slice the 2D dataset\n\n\n"
      ]
    },
    {
      "cell_type": "markdown",
      "metadata": {},
      "source": [
        "Approach 1 - Using the PycroDataset\n-----------------------------------\nWe will use the new PycroDataset class to create an N dimensional slice  directly from the two dimensional\ndata in the file.\n\n\n"
      ]
    },
    {
      "cell_type": "code",
      "execution_count": null,
      "metadata": {
        "collapsed": false
      },
      "outputs": [],
      "source": [
        "# First we convert from an HDF5 Dataset to a PycroDataset\npd_main = px.PycroDataset(h5_main)\nprint(pd_main.shape)"
      ]
    },
    {
      "cell_type": "markdown",
      "metadata": {},
      "source": [
        "As you can see, the data is still two dimensional.  The PycroDataset has several attributes that will help with\nthe slicing.\n\n\n"
      ]
    },
    {
      "cell_type": "code",
      "execution_count": null,
      "metadata": {
        "collapsed": false
      },
      "outputs": [],
      "source": [
        "# Let's check the names and sizes of each dimension\nprint(pd_main.n_dim_labels)\nprint(pd_main.n_dim_sizes)"
      ]
    },
    {
      "cell_type": "markdown",
      "metadata": {},
      "source": [
        "With this information, we can now get our data slice.\n\n\n"
      ]
    },
    {
      "cell_type": "code",
      "execution_count": null,
      "metadata": {
        "collapsed": false
      },
      "outputs": [],
      "source": [
        "slice_dict = dict(X=[2], Y=[3], Field=[0], Cycle=[1])\n\nnd_spec, success = pd_main.slice(slice_dict=slice_dict)\nprint(success)\nprint(nd_spec.shape)"
      ]
    },
    {
      "cell_type": "markdown",
      "metadata": {},
      "source": [
        "The slice is returned already in the N dimensional form.  We just need to remove all the\ndimensions with length one, transpose it like in method 2, and plot.\n\n\n"
      ]
    },
    {
      "cell_type": "code",
      "execution_count": null,
      "metadata": {
        "collapsed": false
      },
      "outputs": [],
      "source": [
        "spectrogram3 = nd_spec.squeeze().T\n\n# Now the spectrogram is of order (DC_Offset x frequency)\nfig, axis = plt. subplots()\naxis.imshow(np.abs(spectrogram3), origin='lower')\naxis.set_xlabel('Frequency Index')\naxis.set_ylabel('DC Offset Index')\naxis.set_title('Spectrogram Amplitude')"
      ]
    },
    {
      "cell_type": "markdown",
      "metadata": {},
      "source": [
        "Approach 2 - N-dimensional form\n-------------------------------\nWe will use convenient pycroscopy function that safely reshapes the data to its N dimensional form with a single\nline. Note that while this approach appears simple on the surface, there are a fair number of lines of code that\nmake up this function.\n\n"
      ]
    },
    {
      "cell_type": "code",
      "execution_count": null,
      "metadata": {
        "collapsed": false
      },
      "outputs": [],
      "source": [
        "ds_nd, success, labels = px.hdf_utils.reshape_to_Ndims(h5_main, get_labels=True)\nprint('Shape of the N-dimensional dataset:', ds_nd.shape)\nprint(labels)"
      ]
    },
    {
      "cell_type": "code",
      "execution_count": null,
      "metadata": {
        "collapsed": false
      },
      "outputs": [],
      "source": [
        "# Now that we have the data in its original N dimensional form, we can easily slice the dataset:\nspectrogram2 = ds_nd[2, 3, :, :, 0, 1]\n\n# Now the spectrogram is of order (frequency x DC_Offset).\nspectrogram2 = spectrogram2.T\n\n# Now the spectrogram is of order (DC_Offset x frequency)\nfig, axis = plt. subplots()\naxis.imshow(np.abs(spectrogram2), origin='lower')\naxis.set_xlabel('Frequency Index')\naxis.set_ylabel('DC Offset Index')\naxis.set_title('Spectrogram Amplitude')"
      ]
    },
    {
      "cell_type": "markdown",
      "metadata": {},
      "source": [
        "Approach 3 - slicing the 2D matrix\n----------------------------------\n\nThis approach is hands-on and requires that we be very careful with the indexing and slicing. Nonetheless,\nthe process is actually fairly intuitive. We rely entirely upon the spectroscopic and position ancillary datasets\nto find the indices for slicing the dataset. Unlike the main dataset, the ancillary datasets are very small and\ncan be stored easily in memory. Once the slicing indices are calculated, we *only read the desired portion of\n`main` data to memory*. Thus the amount of data loaded into memory is only the amount that we absolutely need.\n*This is the only approach that can be applied to slice very large datasets without overwhelming memory overheads*.\nThe comments for each line explain the entire process comprehensively.\n\n\n"
      ]
    },
    {
      "cell_type": "code",
      "execution_count": null,
      "metadata": {
        "collapsed": false
      },
      "outputs": [],
      "source": [
        "# Get only the spectroscopic dimension names:\nspec_dim_names = px.hdf_utils.get_attr(h5_spec_ind, 'labels')\n\n# Find the row in the spectroscopic indices that corresponds to the dimensions we want to slice:\ncycle_row_ind = np.where(spec_dim_names == 'Cycle')[0][0]\n\n# Find the row corresponding to field in the same way:\nfield_row_ind = np.where(spec_dim_names == 'Field')[0][0]\n\n# Find all the spectral indices corresponding to the second cycle:\ndesired_cycle = h5_spec_ind[cycle_row_ind] == 1\n\n# Do the same to find the spectral indices for the first field:\ndesired_field = h5_spec_ind[field_row_ind] == 0\n\n# Now find the indices where the cycle = 1 and the field = 0 using a logical AND statement:\nspec_slice = np.logical_and(desired_cycle, desired_field)\n\n# We will use the same approach to find the position indices\n# corresponding to the row index of 3 and column index of 2:\npos_dim_names = px.hdf_utils.get_attr(h5_pos_ind, 'labels')\n\nx_col_ind = np.where(pos_dim_names == 'X')[0][0]\ny_col_ind = np.where(pos_dim_names == 'Y')[0][0]\n\ndesired_x = h5_pos_ind[:, x_col_ind] == 2\ndesired_y = h5_pos_ind[:, y_col_ind] == 3\n\npos_slice = np.logical_and(desired_x, desired_y)\n\n# Now use the spectroscopic and position slice arrays to slice the 2D dataset:\ndata_vec = h5_main[pos_slice, :][:, spec_slice]\nprint('Sliced data is of shape:', data_vec.shape)"
      ]
    },
    {
      "cell_type": "markdown",
      "metadata": {},
      "source": [
        "Note that the sliced data is effectively one dimensional since the spectroscopic dimensions were flattened to a\nsingle dimension.\n\nNow that we have the data we are interested in, all we need to do is reshape the vector to the expected 2D\nspectrogram shape. We still have to be careful about the order of the indices for reshaping the vector to the\n2D matrix. Note that in python, we specify the slower axis before the faster axis in the reshape command.\n\n"
      ]
    },
    {
      "cell_type": "code",
      "execution_count": null,
      "metadata": {
        "collapsed": false
      },
      "outputs": [],
      "source": [
        "# Reshape this dataset to the 2D spectrogram that we desire:\n\n# For this we need to find the size of the data in the DC_offset and Frequency dimensions:\ndc_dim_ind = np.where(spec_dim_names == 'DC_Offset')[0][0]\n# Find the row corresponding to field in the same way:\nfreq_dim_ind = np.where(spec_dim_names == 'Frequency')[0][0]\n\ndc_dim_size = spec_dim_sizes[dc_dim_ind]\nfreq_dim_size = spec_dim_sizes[freq_dim_ind]\n\n# Since we know that the DC offset varies slower than the frequency, we reshape the\n# the data vector by (dc_dim_size, freq_dim_size)\nprint('We need to reshape the vector by the tuple:', (dc_dim_size, freq_dim_size))"
      ]
    },
    {
      "cell_type": "markdown",
      "metadata": {},
      "source": [
        "The dimensions in the ancillary datasets may or may not be arranged from fastest to slowest even though that is\npart of the requirements. We can still account for this. In the event that we don't know the order in which to\nreshape the data vector because we don't know which dimension varies faster than the other(s), we would need to\nsort the dimensions by how fast their indices change. Fortunately, pycroscopy has a function called `px.hdf_utils.\nget_sort_order` that does just this. Knowing the sort order, we can easily reshape correctly in an automated manner.\nWe will do this below\n\n"
      ]
    },
    {
      "cell_type": "code",
      "execution_count": null,
      "metadata": {
        "collapsed": false
      },
      "outputs": [],
      "source": [
        "# Sort the spectroscopic dimensions by how fast their indices changes (fastest --> slowest)\nspec_sort_order = px.hdf_utils.get_sort_order(h5_spec_ind)\nprint('Spectroscopic dimensions arranged as is:\\n',\n      spec_dim_names)\nprint('Dimension indices arranged from fastest to slowest:',\n      spec_sort_order)\nprint('Dimension names now arranged from fastest to slowest:\\n',\n      spec_dim_names[spec_sort_order])\n\nif spec_sort_order[dc_dim_ind] > spec_sort_order[freq_dim_ind]:\n    spectrogram_shape = (dc_dim_size, freq_dim_size)\nelse:\n    spectrogram_shape = (freq_dim_size, dc_dim_size)\n\nprint('We need to reshape the vector by the tuple:', spectrogram_shape)\n\n# Reshaping from 1D to 2D:\nspectrogram = np.reshape(np.squeeze(data_vec), spectrogram_shape)"
      ]
    },
    {
      "cell_type": "markdown",
      "metadata": {},
      "source": [
        "Now that the spectrogram is indeed two dimensional, we can visualize it. This plot should match the one from the first\napproach.\n\n"
      ]
    },
    {
      "cell_type": "code",
      "execution_count": null,
      "metadata": {
        "collapsed": false
      },
      "outputs": [],
      "source": [
        "# Now the spectrogram is of order (DC_Offset x frequency)\nfig, axis = plt. subplots()\naxis.imshow(np.abs(spectrogram), origin='lower')\naxis.set_xlabel('Frequency Index')\naxis.set_ylabel('DC Offset Index')\naxis.set_title('Spectrogram Amplitude')\n\n# Close and delete the h5_file\nh5_file.close()\nos.remove(h5_path)"
      ]
    }
  ],
  "metadata": {
    "kernelspec": {
      "display_name": "Python 3",
      "language": "python",
      "name": "python3"
    },
    "language_info": {
      "codemirror_mode": {
        "name": "ipython",
        "version": 3
      },
      "file_extension": ".py",
      "mimetype": "text/x-python",
      "name": "python",
      "nbconvert_exporter": "python",
      "pygments_lexer": "ipython3",
      "version": "3.6.3"
    }
  },
  "nbformat": 4,
  "nbformat_minor": 0
}